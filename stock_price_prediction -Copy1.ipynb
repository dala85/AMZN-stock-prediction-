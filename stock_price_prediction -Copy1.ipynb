{
 "cells": [
  {
   "cell_type": "code",
   "execution_count": 112,
   "metadata": {},
   "outputs": [],
   "source": [
    "# This program predicts stock price by using machine learning models \n"
   ]
  },
  {
   "cell_type": "markdown",
   "metadata": {},
   "source": [
    "# TO better use this program for other stock \n",
    "* Change the name of the stock in row [13] under df = quandl.get('Wiki/fb')\n",
    "* check which model has higher confidence and use it \n",
    "* change the forecast_out for the number of future prediction days "
   ]
  },
  {
   "cell_type": "code",
   "execution_count": 181,
   "metadata": {},
   "outputs": [],
   "source": [
    "# Install the dependicies \n",
    "\n",
    "import quandl ,math\n",
    "import numpy as np \n",
    "from sklearn.linear_model import LinearRegression \n",
    "from sklearn.svm import SVR \n",
    "from sklearn.model_selection import train_test_split\n",
    "import matplotlib.pyplot as plt \n",
    "import pandas as pd\n",
    "import seaborn as sns\n",
    "\n"
   ]
  },
  {
   "cell_type": "code",
   "execution_count": 218,
   "metadata": {},
   "outputs": [
    {
     "name": "stdout",
     "output_type": "stream",
     "text": [
      "         Date         Open         High          Low        Close  \\\n",
      "0  2018-03-27  1572.400024  1575.969971  1482.319946  1497.050049   \n",
      "1  2018-03-28  1447.000000  1455.900024  1386.170044  1431.420044   \n",
      "2  2018-03-29  1406.000000  1455.469971  1365.199951  1447.339966   \n",
      "\n",
      "     Adj Close    Volume  \n",
      "0  1497.050049   6999600  \n",
      "1  1431.420044  13705300  \n",
      "2  1447.339966  12581100  \n"
     ]
    }
   ],
   "source": [
    "# get the stock data \n",
    "# df = quandl.get('Wiki/amzn')\n",
    "df=pd.read_csv('AMZN-2.csv')\n",
    "\n",
    "# Take a look at the data\n",
    "print(df.head(3))\n"
   ]
  },
  {
   "cell_type": "code",
   "execution_count": 219,
   "metadata": {},
   "outputs": [
    {
     "name": "stdout",
     "output_type": "stream",
     "text": [
      "<class 'pandas.core.frame.DataFrame'>\n",
      "RangeIndex: 423 entries, 0 to 422\n",
      "Data columns (total 7 columns):\n",
      "Date         423 non-null object\n",
      "Open         423 non-null float64\n",
      "High         423 non-null float64\n",
      "Low          423 non-null float64\n",
      "Close        423 non-null float64\n",
      "Adj Close    423 non-null float64\n",
      "Volume       423 non-null int64\n",
      "dtypes: float64(5), int64(1), object(1)\n",
      "memory usage: 23.3+ KB\n",
      "None\n"
     ]
    }
   ],
   "source": [
    "# Take a look at the data information \n",
    "print(df.info())"
   ]
  },
  {
   "cell_type": "code",
   "execution_count": 220,
   "metadata": {},
   "outputs": [
    {
     "name": "stdout",
     "output_type": "stream",
     "text": [
      "     Adj Close\n",
      "0  1497.050049\n",
      "1  1431.420044\n",
      "2  1447.339966\n"
     ]
    }
   ],
   "source": [
    "# Get the Adjusted close price \n",
    "\n",
    "df=df[['Adj Close']]\n",
    "\n",
    "# Take a look at the new data \n",
    "print(df.head(3))"
   ]
  },
  {
   "cell_type": "code",
   "execution_count": 221,
   "metadata": {},
   "outputs": [
    {
     "name": "stdout",
     "output_type": "stream",
     "text": [
      "       Adj Close   prediction\n",
      "418  1734.709961  1745.719971\n",
      "419  1745.719971  1773.839966\n",
      "420  1773.839966  1796.939941\n",
      "421  1796.939941  1818.510010\n",
      "422  1818.510010          NaN\n"
     ]
    }
   ],
   "source": [
    "# create a variable to predict the future stock price and for how many days\n",
    "# A variable for predicting 'n' days out into the future\n",
    "# predicting 10 prcent \n",
    "forecast_out = int(math.ceil(0.015*len(df)))\n",
    "\n",
    "# Create another columns for (the dependent variable )shifted 'n' units up \n",
    "# I used the -1 to shift the columns up (moved up the value on day up )\n",
    "df['prediction']= df[['Adj Close']].shift(-1)\n",
    "\n",
    "# print the new columns \n",
    "print(df.tail(5))\n",
    "# In the line below it shows that the last day on prediction coulmns are empty since we \n",
    "# don't know yet and this is what will work on "
   ]
  },
  {
   "cell_type": "code",
   "execution_count": 222,
   "metadata": {},
   "outputs": [
    {
     "name": "stdout",
     "output_type": "stream",
     "text": [
      "       Adj Close   prediction\n",
      "418  1734.709961  1773.839966\n",
      "419  1745.719971  1796.939941\n",
      "420  1773.839966  1818.510010\n",
      "421  1796.939941          NaN\n",
      "422  1818.510010          NaN\n"
     ]
    }
   ],
   "source": [
    "# To make it more clear if i change the shift value to (2) that mean we shifted two days \n",
    "df['prediction']= df[['Adj Close']].shift(-2)\n",
    "print(df.tail(5))\n",
    "\n",
    "\n"
   ]
  },
  {
   "cell_type": "code",
   "execution_count": 223,
   "metadata": {},
   "outputs": [
    {
     "name": "stdout",
     "output_type": "stream",
     "text": [
      "       Adj Close  prediction\n",
      "418  1734.709961         NaN\n",
      "419  1745.719971         NaN\n",
      "420  1773.839966         NaN\n",
      "421  1796.939941         NaN\n",
      "422  1818.510010         NaN\n"
     ]
    }
   ],
   "source": [
    "# now I will put the forecast variable which is the number of the days we want \n",
    "# I will put the forecast variable in the shift function \n",
    "df['prediction']= df[['Adj Close']].shift(-forecast_out)\n",
    "print(df.tail(5))"
   ]
  },
  {
   "cell_type": "code",
   "execution_count": 224,
   "metadata": {},
   "outputs": [
    {
     "name": "stdout",
     "output_type": "stream",
     "text": [
      "[[1497.050049]\n",
      " [1431.420044]\n",
      " [1447.339966]\n",
      " [1371.98999 ]\n",
      " [1392.050049]\n",
      " [1410.569946]\n",
      " [1451.75    ]\n",
      " [1405.22998 ]\n",
      " [1406.079956]\n",
      " [1436.219971]\n",
      " [1427.050049]\n",
      " [1448.5     ]\n",
      " [1430.790039]\n",
      " [1441.5     ]\n",
      " [1503.829956]\n",
      " [1527.839966]\n",
      " [1556.910034]\n",
      " [1527.48999 ]\n",
      " [1517.859985]\n",
      " [1460.089966]\n",
      " [1460.170044]\n",
      " [1517.959961]\n",
      " [1572.619995]\n",
      " [1566.130005]\n",
      " [1582.26001 ]\n",
      " [1569.680054]\n",
      " [1572.079956]\n",
      " [1580.949951]\n",
      " [1600.140015]\n",
      " [1592.390015]\n",
      " [1608.      ]\n",
      " [1609.079956]\n",
      " [1602.910034]\n",
      " [1601.540039]\n",
      " [1576.119995]\n",
      " [1587.280029]\n",
      " [1581.76001 ]\n",
      " [1574.369995]\n",
      " [1585.459961]\n",
      " [1581.400024]\n",
      " [1601.859985]\n",
      " [1603.069946]\n",
      " [1610.150024]\n",
      " [1612.869995]\n",
      " [1624.890015]\n",
      " [1629.619995]\n",
      " [1641.540039]\n",
      " [1665.27002 ]\n",
      " [1696.349976]\n",
      " [1695.75    ]\n",
      " [1689.300049]\n",
      " [1683.98999 ]\n",
      " [1689.119995]\n",
      " [1698.75    ]\n",
      " [1704.859985]\n",
      " [1723.859985]\n",
      " [1715.969971]\n",
      " [1723.790039]\n",
      " [1734.780029]\n",
      " [1750.079956]\n",
      " [1730.219971]\n",
      " [1715.670044]\n",
      " [1663.150024]\n",
      " [1691.089966]\n",
      " [1660.51001 ]\n",
      " [1701.449951]\n",
      " [1699.800049]\n",
      " [1713.780029]\n",
      " [1693.959961]\n",
      " [1699.72998 ]\n",
      " [1710.630005]\n",
      " [1739.02002 ]\n",
      " [1743.069946]\n",
      " [1755.      ]\n",
      " [1796.619995]\n",
      " [1813.030029]\n",
      " [1822.48999 ]\n",
      " [1843.930054]\n",
      " [1842.920044]\n",
      " [1812.969971]\n",
      " [1813.699951]\n",
      " [1802.      ]\n",
      " [1829.23999 ]\n",
      " [1863.609985]\n",
      " [1808.      ]\n",
      " [1817.27002 ]\n",
      " [1779.219971]\n",
      " [1777.439941]\n",
      " [1797.170044]\n",
      " [1834.329956]\n",
      " [1823.290039]\n",
      " [1847.75    ]\n",
      " [1862.47998 ]\n",
      " [1886.52002 ]\n",
      " [1898.52002 ]\n",
      " [1886.300049]\n",
      " [1896.199951]\n",
      " [1919.650024]\n",
      " [1882.619995]\n",
      " [1886.52002 ]\n",
      " [1882.219971]\n",
      " [1876.709961]\n",
      " [1883.420044]\n",
      " [1904.900024]\n",
      " [1902.900024]\n",
      " [1905.390015]\n",
      " [1927.680054]\n",
      " [1932.819946]\n",
      " [1998.099976]\n",
      " [2002.380005]\n",
      " [2012.709961]\n",
      " [2039.51001 ]\n",
      " [1994.819946]\n",
      " [1958.310059]\n",
      " [1952.069946]\n",
      " [1939.01001 ]\n",
      " [1987.150024]\n",
      " [1990.      ]\n",
      " [1989.869995]\n",
      " [1970.189941]\n",
      " [1908.030029]\n",
      " [1941.050049]\n",
      " [1926.420044]\n",
      " [1944.300049]\n",
      " [1915.01001 ]\n",
      " [1934.359985]\n",
      " [1974.550049]\n",
      " [1974.849976]\n",
      " [2012.97998 ]\n",
      " [2003.      ]\n",
      " [2004.359985]\n",
      " [1971.310059]\n",
      " [1952.76001 ]\n",
      " [1909.420044]\n",
      " [1889.650024]\n",
      " [1864.420044]\n",
      " [1870.319946]\n",
      " [1755.25    ]\n",
      " [1719.359985]\n",
      " [1788.609985]\n",
      " [1760.949951]\n",
      " [1819.959961]\n",
      " [1831.72998 ]\n",
      " [1770.719971]\n",
      " [1764.030029]\n",
      " [1789.300049]\n",
      " [1768.699951]\n",
      " [1664.199951]\n",
      " [1782.170044]\n",
      " [1642.810059]\n",
      " [1538.880005]\n",
      " [1530.420044]\n",
      " [1598.01001 ]\n",
      " [1665.530029]\n",
      " [1665.530029]\n",
      " [1627.800049]\n",
      " [1642.810059]\n",
      " [1755.48999 ]\n",
      " [1754.910034]\n",
      " [1712.430054]\n",
      " [1636.849976]\n",
      " [1631.170044]\n",
      " [1599.01001 ]\n",
      " [1619.439941]\n",
      " [1593.410034]\n",
      " [1512.290039]\n",
      " [1495.459961]\n",
      " [1516.72998 ]\n",
      " [1502.060059]\n",
      " [1581.329956]\n",
      " [1581.420044]\n",
      " [1677.75    ]\n",
      " [1673.569946]\n",
      " [1690.170044]\n",
      " [1772.359985]\n",
      " [1668.400024]\n",
      " [1699.189941]\n",
      " [1629.130005]\n",
      " [1641.030029]\n",
      " [1643.23999 ]\n",
      " [1663.540039]\n",
      " [1658.380005]\n",
      " [1591.910034]\n",
      " [1520.910034]\n",
      " [1551.47998 ]\n",
      " [1495.079956]\n",
      " [1460.829956]\n",
      " [1377.449951]\n",
      " [1343.959961]\n",
      " [1470.900024]\n",
      " [1461.640015]\n",
      " [1478.02002 ]\n",
      " [1501.969971]\n",
      " [1539.130005]\n",
      " [1500.280029]\n",
      " [1575.390015]\n",
      " [1629.51001 ]\n",
      " [1656.579956]\n",
      " [1659.420044]\n",
      " [1656.219971]\n",
      " [1640.560059]\n",
      " [1617.209961]\n",
      " [1674.560059]\n",
      " [1683.780029]\n",
      " [1693.219971]\n",
      " [1696.199951]\n",
      " [1632.170044]\n",
      " [1640.02002 ]\n",
      " [1654.930054]\n",
      " [1670.569946]\n",
      " [1637.890015]\n",
      " [1593.880005]\n",
      " [1670.430054]\n",
      " [1718.72998 ]\n",
      " [1626.22998 ]\n",
      " [1633.310059]\n",
      " [1658.810059]\n",
      " [1640.26001 ]\n",
      " [1614.369995]\n",
      " [1588.219971]\n",
      " [1591.      ]\n",
      " [1638.01001 ]\n",
      " [1640.      ]\n",
      " [1622.650024]\n",
      " [1607.949951]\n",
      " [1627.579956]\n",
      " [1622.099976]\n",
      " [1619.439941]\n",
      " [1631.560059]\n",
      " [1633.      ]\n",
      " [1636.400024]\n",
      " [1641.089966]\n",
      " [1639.829956]\n",
      " [1671.72998 ]\n",
      " [1696.170044]\n",
      " [1692.430054]\n",
      " [1668.949951]\n",
      " [1625.949951]\n",
      " [1620.800049]\n",
      " [1670.619995]\n",
      " [1673.099976]\n",
      " [1690.810059]\n",
      " [1686.219971]\n",
      " [1712.359985]\n",
      " [1742.150024]\n",
      " [1761.849976]\n",
      " [1797.27002 ]\n",
      " [1819.26001 ]\n",
      " [1764.77002 ]\n",
      " [1774.26001 ]\n",
      " [1783.76001 ]\n",
      " [1765.699951]\n",
      " [1773.420044]\n",
      " [1780.75    ]\n",
      " [1814.189941]\n",
      " [1813.97998 ]\n",
      " [1820.699951]\n",
      " [1818.859985]\n",
      " [1837.280029]\n",
      " [1849.859985]\n",
      " [1835.839966]\n",
      " [1847.329956]\n",
      " [1844.069946]\n",
      " [1843.060059]\n",
      " [1844.869995]\n",
      " [1863.040039]\n",
      " [1864.819946]\n",
      " [1861.689941]\n",
      " [1887.310059]\n",
      " [1923.77002 ]\n",
      " [1901.75    ]\n",
      " [1902.25    ]\n",
      " [1950.630005]\n",
      " [1938.430054]\n",
      " [1926.52002 ]\n",
      " [1911.52002 ]\n",
      " [1900.819946]\n",
      " [1962.459961]\n",
      " [1950.550049]\n",
      " [1921.      ]\n",
      " [1917.77002 ]\n",
      " [1899.869995]\n",
      " [1889.97998 ]\n",
      " [1822.680054]\n",
      " [1840.119995]\n",
      " [1871.150024]\n",
      " [1907.569946]\n",
      " [1869.      ]\n",
      " [1858.969971]\n",
      " [1857.52002 ]\n",
      " [1859.680054]\n",
      " [1815.47998 ]\n",
      " [1823.280029]\n",
      " [1836.430054]\n",
      " [1819.189941]\n",
      " [1816.319946]\n",
      " [1775.069946]\n",
      " [1692.689941]\n",
      " [1729.560059]\n",
      " [1738.5     ]\n",
      " [1754.359985]\n",
      " [1804.030029]\n",
      " [1860.630005]\n",
      " [1863.699951]\n",
      " [1855.319946]\n",
      " [1870.300049]\n",
      " [1869.670044]\n",
      " [1886.030029]\n",
      " [1901.369995]\n",
      " [1908.790039]\n",
      " [1918.189941]\n",
      " [1911.300049]\n",
      " [1913.900024]\n",
      " [1878.27002 ]\n",
      " [1897.829956]\n",
      " [1904.280029]\n",
      " [1893.630005]\n",
      " [1922.189941]\n",
      " [1934.310059]\n",
      " [1939.      ]\n",
      " [1942.910034]\n",
      " [1952.319946]\n",
      " [1988.300049]\n",
      " [2017.410034]\n",
      " [2001.069946]\n",
      " [2011.      ]\n",
      " [2020.98999 ]\n",
      " [2009.900024]\n",
      " [1992.030029]\n",
      " [1977.900024]\n",
      " [1964.52002 ]\n",
      " [1985.630005]\n",
      " [1994.48999 ]\n",
      " [2000.810059]\n",
      " [1973.819946]\n",
      " [1943.050049]\n",
      " [1912.449951]\n",
      " [1898.530029]\n",
      " [1866.780029]\n",
      " [1855.319946]\n",
      " [1823.23999 ]\n",
      " [1765.130005]\n",
      " [1787.829956]\n",
      " [1793.400024]\n",
      " [1832.890015]\n",
      " [1807.579956]\n",
      " [1784.920044]\n",
      " [1824.339966]\n",
      " [1762.959961]\n",
      " [1776.119995]\n",
      " [1792.569946]\n",
      " [1816.119995]\n",
      " [1801.380005]\n",
      " [1823.540039]\n",
      " [1804.660034]\n",
      " [1749.619995]\n",
      " [1768.869995]\n",
      " [1761.829956]\n",
      " [1764.25    ]\n",
      " [1786.400024]\n",
      " [1776.290039]\n",
      " [1789.839966]\n",
      " [1800.619995]\n",
      " [1840.719971]\n",
      " [1833.51001 ]\n",
      " [1831.349976]\n",
      " [1820.550049]\n",
      " [1822.98999 ]\n",
      " [1843.550049]\n",
      " [1839.339966]\n",
      " [1807.839966]\n",
      " [1822.550049]\n",
      " [1817.459961]\n",
      " [1821.5     ]\n",
      " [1794.160034]\n",
      " [1785.300049]\n",
      " [1741.609985]\n",
      " [1768.329956]\n",
      " [1739.839966]\n",
      " [1725.449951]\n",
      " [1735.910034]\n",
      " [1735.650024]\n",
      " [1713.22998 ]\n",
      " [1724.420044]\n",
      " [1739.650024]\n",
      " [1732.660034]\n",
      " [1705.51001 ]\n",
      " [1721.98999 ]\n",
      " [1720.26001 ]\n",
      " [1731.920044]\n",
      " [1736.430054]\n",
      " [1767.380005]\n",
      " [1777.430054]\n",
      " [1787.47998 ]\n",
      " [1757.51001 ]\n",
      " [1785.660034]\n",
      " [1765.72998 ]\n",
      " [1762.170044]\n",
      " [1780.780029]\n",
      " [1761.329956]\n",
      " [1777.079956]\n",
      " [1762.709961]\n",
      " [1779.98999 ]\n",
      " [1776.660034]\n",
      " [1791.439941]\n",
      " [1804.660034]\n",
      " [1801.709961]\n",
      " [1795.77002 ]\n",
      " [1788.199951]\n",
      " [1785.880005]\n",
      " [1771.650024]\n",
      " [1778.      ]\n",
      " [1753.109985]\n",
      " [1754.599976]\n",
      " [1739.48999 ]\n",
      " [1752.530029]]\n"
     ]
    }
   ],
   "source": [
    "# create the independent data set and will call it x \n",
    "# convert the data frame to numpy array \n",
    "x = np.array(df.drop(['prediction'],1))\n",
    "\n",
    "# Remove the last (n |forecast_out|) rows\n",
    "x= x[:-forecast_out]\n",
    "\n",
    "# print x \n",
    "print(x)"
   ]
  },
  {
   "cell_type": "code",
   "execution_count": 225,
   "metadata": {},
   "outputs": [],
   "source": [
    "# create the indipendent data and will call it y \n",
    "# convert the data frame to a numpy array (all the value including Nan's)\n",
    "\n",
    "y = np.array(df['prediction'])\n",
    "\n",
    "# get all the y value except (n) rows \n",
    "y = y[:-forecast_out]\n",
    "\n",
    "# print(y)"
   ]
  },
  {
   "cell_type": "code",
   "execution_count": 226,
   "metadata": {},
   "outputs": [],
   "source": [
    "# Split the data to 80% traing and 20% testing \n",
    "x_train , x_test , y_train , y_test = train_test_split(x,y ,test_size=0.2)"
   ]
  },
  {
   "cell_type": "code",
   "execution_count": 227,
   "metadata": {},
   "outputs": [
    {
     "data": {
      "text/plain": [
       "SVR(C=1000.0, cache_size=200, coef0=0.0, degree=3, epsilon=0.1, gamma=0.1,\n",
       "    kernel='rbf', max_iter=-1, shrinking=True, tol=0.001, verbose=False)"
      ]
     },
     "execution_count": 227,
     "metadata": {},
     "output_type": "execute_result"
    }
   ],
   "source": [
    "# create and train the model using the support victor machine (regressor/ classifier),supervised learning\n",
    "\n",
    "svr_rbf = SVR(kernel='rbf',C=1e3,gamma=0.1)\n",
    "\n",
    "svr_rbf.fit(x_train,y_train)\n"
   ]
  },
  {
   "cell_type": "code",
   "execution_count": 228,
   "metadata": {},
   "outputs": [
    {
     "name": "stdout",
     "output_type": "stream",
     "text": [
      "The accuracy or confidence 0.553822313227196\n"
     ]
    }
   ],
   "source": [
    "# Testing model = Score returns the coeifecient of determination R^2 of the prediction \n",
    "# The best score is 1.0\n",
    "svm_confidence = svr_rbf.score(x_test,y_test) \n",
    "\n",
    "print(\"The accuracy or confidence {}\".format(svm_confidence))"
   ]
  },
  {
   "cell_type": "markdown",
   "metadata": {},
   "source": [
    "# Try another model "
   ]
  },
  {
   "cell_type": "code",
   "execution_count": 229,
   "metadata": {},
   "outputs": [
    {
     "data": {
      "text/plain": [
       "LinearRegression(copy_X=True, fit_intercept=True, n_jobs=None, normalize=False)"
      ]
     },
     "execution_count": 229,
     "metadata": {},
     "output_type": "execute_result"
    }
   ],
   "source": [
    "# create and train the linear rigression model \n",
    "\n",
    "lr= LinearRegression()\n",
    "\n",
    "# train the model \n",
    "lr.fit (x_train,y_train)"
   ]
  },
  {
   "cell_type": "code",
   "execution_count": 230,
   "metadata": {},
   "outputs": [
    {
     "name": "stdout",
     "output_type": "stream",
     "text": [
      "The accuracy or confidence 0.7681931566382953\n"
     ]
    }
   ],
   "source": [
    "# Testing model = Score returns the coeifecient of determination R^2 of the prediction \n",
    "# The best score is 1.0\n",
    "lr_confidence = lr.score(x_test,y_test) \n",
    "\n",
    "print(\"The accuracy or confidence {}\".format(lr_confidence))\n",
    "\n"
   ]
  },
  {
   "cell_type": "code",
   "execution_count": 231,
   "metadata": {},
   "outputs": [
    {
     "name": "stdout",
     "output_type": "stream",
     "text": [
      "[[1752.790039]\n",
      " [1745.530029]\n",
      " [1734.709961]\n",
      " [1745.719971]\n",
      " [1773.839966]\n",
      " [1796.939941]\n",
      " [1818.51001 ]]\n"
     ]
    }
   ],
   "source": [
    "# set x_forecast = to the last 30 rows of the orginal data set from the Adj close columns \n",
    "x_forecast = np.array(df.drop(['prediction'],1))[-forecast_out:]\n",
    "print(x_forecast)"
   ]
  },
  {
   "cell_type": "code",
   "execution_count": 232,
   "metadata": {},
   "outputs": [
    {
     "name": "stdout",
     "output_type": "stream",
     "text": [
      "[1757.56403581 1751.69265084 1742.94214159 1751.84626256 1774.58773483\n",
      " 1793.26936834 1810.71372158]\n"
     ]
    }
   ],
   "source": [
    "# prediction for the linear regression \n",
    "# print the prediction for the next 'n' days \n",
    "lr_prediction = lr.predict(x_forecast)\n",
    "print(lr_prediction)"
   ]
  },
  {
   "cell_type": "code",
   "execution_count": 233,
   "metadata": {},
   "outputs": [
    {
     "name": "stdout",
     "output_type": "stream",
     "text": [
      "[1819.05593847 1769.83836128 1701.93550085 1758.87410806 1814.31134607\n",
      " 1829.10691324 1807.43391721]\n"
     ]
    }
   ],
   "source": [
    "# prediction for the SVR regression \n",
    "# print the prediction for the next 'n' days \n",
    "sv_prediction = svr_rbf.predict(x_forecast)\n",
    "print(sv_prediction)"
   ]
  },
  {
   "cell_type": "code",
   "execution_count": 234,
   "metadata": {},
   "outputs": [],
   "source": [
    "real_price=np.array(close)"
   ]
  },
  {
   "cell_type": "code",
   "execution_count": 235,
   "metadata": {},
   "outputs": [
    {
     "data": {
      "text/plain": [
       "''"
      ]
     },
     "execution_count": 235,
     "metadata": {},
     "output_type": "execute_result"
    },
    {
     "data": {
      "image/png": "[encoded data removed]",
      "text/plain": [
       "<Figure size 720x432 with 1 Axes>"
      ]
     },
     "metadata": {
      "needs_background": "light"
     },
     "output_type": "display_data"
    }
   ],
   "source": [
    "plt.figure(figsize=(10,6))\n",
    "plt.plot(lr_prediction,color='green')\n",
    "plt.grid()\n",
    "plt.xlabel('Day',color='blue')\n",
    "plt.ylabel('Price',color='blue')\n",
    "plt.title('Stock price future prediction',color='blue')\n",
    ";"
   ]
  },
  {
   "cell_type": "code",
   "execution_count": null,
   "metadata": {},
   "outputs": [],
   "source": []
  },
  {
   "cell_type": "code",
   "execution_count": null,
   "metadata": {},
   "outputs": [],
   "source": []
  }
 ],
 "metadata": {
  "kernelspec": {
   "display_name": "Python 3",
   "language": "python",
   "name": "python3"
  },
  "language_info": {
   "codemirror_mode": {
    "name": "ipython",
    "version": 3
   },
   "file_extension": ".py",
   "mimetype": "text/x-python",
   "name": "python",
   "nbconvert_exporter": "python",
   "pygments_lexer": "ipython3",
   "version": "3.7.5"
  }
 },
 "nbformat": 4,
 "nbformat_minor": 2
}
